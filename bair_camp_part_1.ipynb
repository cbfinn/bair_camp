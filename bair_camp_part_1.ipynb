{
 "cells": [
  {
   "cell_type": "markdown",
   "metadata": {},
   "source": [
    "# BAIR Camp Project Part 1: Designing Simulated Robots\n",
    "\n",
    "In this project, you will design two simulated robots and try to make them run forward.\n",
    "\n",
    "### Before starting\n",
    "\n",
    "First take a look at the code in project_part1.py. In particular, see what objects and functions are available for you to call, and read about what they do. As you start below, keep project_part2.py open as a reference.\n",
    "\n",
    "### Deliverables\n",
    "\n",
    "At the end of today, you will be expected to, as a group, submit a dictionary of body parameters for *two* different robots. Be sure to specify the name of the base robot (ant, hopper, or walker) along with each set of parameters. Then on Thursday, your goal will be to have the robot learn to run (or hop) as fast as possible.\n",
    "\n",
    "On Friday, your group will present your most interesting findings from today's part 1 and Thursday's part 2. This includes how you decided to design your robot, what you learned trying to get the robot to run today, and what you learned when getting the robot to learn on Thursday. Your group leader can help you figure out what to include in your presentation. \n",
    "\n",
    "You will have time on Friday morning to put together slides for your presentation, so don't worry about making them today, but be sure to *write down notes* for what you will include from today's project, and be sure to _download any videos_ that you want to use in your presentation!\n",
    "\n",
    "Don't forget to name your robots!"
   ]
  },
  {
   "cell_type": "code",
   "execution_count": 1,
   "metadata": {},
   "outputs": [],
   "source": [
    "import gym\n",
    "from project_part1 import CustomRobot"
   ]
  },
  {
   "cell_type": "markdown",
   "metadata": {},
   "source": [
    "### Part 1a: Half Cheetah \n",
    "\n",
    "The goal of this first part is to design a simple half-cheetah robot by controlling the length, width, and color of its limbs. First create and visualize the default cheetah agent."
   ]
  },
  {
   "cell_type": "code",
   "execution_count": null,
   "metadata": {},
   "outputs": [],
   "source": [
    "## First create the default cheetah robot.\n",
    "my_cheetah = # YOUR CODE HERE"
   ]
  },
  {
   "cell_type": "code",
   "execution_count": null,
   "metadata": {
    "collapsed": true
   },
   "outputs": [],
   "source": [
    "## Have your cheetah run using random actions and get a video.\n",
    "cheetah_video = # YOUR CODE HERE"
   ]
  },
  {
   "cell_type": "code",
   "execution_count": null,
   "metadata": {
    "collapsed": true
   },
   "outputs": [],
   "source": [
    "## Display the video.\n",
    "cheetah_video.ipython_display(width=280)"
   ]
  },
  {
   "cell_type": "markdown",
   "metadata": {},
   "source": [
    "Now, it's time to modify the default cheetah, designing your own version of the cheetah. First, get the default body parameters of the robot to figure out which parameters you can vary. Then design the robot by modifying the body parameters"
   ]
  },
  {
   "cell_type": "code",
   "execution_count": null,
   "metadata": {
    "collapsed": true
   },
   "outputs": [],
   "source": [
    "## First, get the default body parameters of the cheetah, and figure out which parameters you can vary.\n",
    "default_params = # YOUR CODE HERE"
   ]
  },
  {
   "cell_type": "code",
   "execution_count": null,
   "metadata": {
    "collapsed": true
   },
   "outputs": [],
   "source": [
    "## Make your own robot by making a new dictionary of body parameters, and then setting the body parameters \n",
    "## to be your designed parameters.\n",
    "params = # YOUR CODE HERE"
   ]
  },
  {
   "cell_type": "code",
   "execution_count": null,
   "metadata": {
    "collapsed": true
   },
   "outputs": [],
   "source": [
    "## Visualize your new robot.\n",
    "cheetah_video = # YOUR CODE HERE\n",
    "cheetah_video.ipython_display(width=280)"
   ]
  },
  {
   "cell_type": "markdown",
   "metadata": {},
   "source": [
    "Feel free to iterate on your design above, until you are happy with your robot.\n",
    "\n",
    "Now that you have designed a cheetah robot, it's time to try to control it to run forward! First see how far it runs by setting a single, fixed action that will be taken repeatedy"
   ]
  },
  {
   "cell_type": "code",
   "execution_count": null,
   "metadata": {
    "collapsed": true
   },
   "outputs": [],
   "source": [
    "## Get a video of the robot with a single fixed action applied. \n",
    "## The action corresponds to torques applied at each of the joints. \n",
    "## To control the robot, you should figure out the number of joints that you can control and which dimension\n",
    "## corresond to each joint. \n",
    "action = # YOUR CODE HERE\n",
    "cheetah_video = # YOUR CODE HERE"
   ]
  },
  {
   "cell_type": "code",
   "execution_count": null,
   "metadata": {
    "collapsed": true
   },
   "outputs": [],
   "source": [
    "## Display the video.\n",
    "cheetah_video.ipython_display(width=280)"
   ]
  },
  {
   "cell_type": "markdown",
   "metadata": {},
   "source": [
    "Now, see if you can get the cheetah to run further by taking multiple actions periodically."
   ]
  },
  {
   "cell_type": "code",
   "execution_count": null,
   "metadata": {
    "collapsed": true
   },
   "outputs": [],
   "source": [
    "## Get a video of the robot with multiple actions applied periodically.\n",
    "actions = # YOUR CODE HERE\n",
    "action_durations = # YOUR CODE HERE\n",
    "cheetah_video = # YOUR CODE HERE"
   ]
  },
  {
   "cell_type": "code",
   "execution_count": null,
   "metadata": {
    "collapsed": true
   },
   "outputs": [],
   "source": [
    "## Display the video.\n",
    "cheetah_video.ipython_display(width=280)"
   ]
  },
  {
   "cell_type": "markdown",
   "metadata": {},
   "source": [
    "How far did your cheetah run?\n",
    "\n",
    "Feel free to modify the design of your cheetah as you get it to run. Do some designs lead to faster running than others?"
   ]
  },
  {
   "cell_type": "markdown",
   "metadata": {},
   "source": [
    "### Part 1b: Other robots \n",
    "\n",
    "Now let's move onto robots that are more complex than the half cheetah. There are three choices: a 1-legged hopper, a 2-legged walker, and a 4-legged ant.\n",
    "\n",
    "At the end of this notebook, you will need to chose two of these three robots, and specify your design.\n",
    "\n",
    "Start by building the default robot, watching it run with random actions."
   ]
  },
  {
   "cell_type": "code",
   "execution_count": null,
   "metadata": {
    "collapsed": true
   },
   "outputs": [],
   "source": [
    "## First create the default version of your robot.\n",
    "my_robot = # YOUR CODE HERE"
   ]
  },
  {
   "cell_type": "code",
   "execution_count": null,
   "metadata": {
    "collapsed": true
   },
   "outputs": [],
   "source": [
    "## Get a video of the robot with random actions.\n",
    "robot_video = my_robot.run()"
   ]
  },
  {
   "cell_type": "code",
   "execution_count": null,
   "metadata": {
    "collapsed": true
   },
   "outputs": [],
   "source": [
    "## Display the video.\n",
    "robot_video.ipython_display(width=280)"
   ]
  },
  {
   "cell_type": "markdown",
   "metadata": {},
   "source": [
    "Now, it's time to modify the default robot, creating your own design. Note that each robot has a different set of body parameters that can be changed!"
   ]
  },
  {
   "cell_type": "code",
   "execution_count": null,
   "metadata": {
    "collapsed": true
   },
   "outputs": [],
   "source": [
    "# YOUR CODE HERE"
   ]
  },
  {
   "cell_type": "code",
   "execution_count": null,
   "metadata": {
    "collapsed": true
   },
   "outputs": [],
   "source": [
    "## Visualize the new robot.\n",
    "robot_video = # YOUR CODE HERE\n",
    "robot_video.ipython_display(width=280)"
   ]
  },
  {
   "cell_type": "markdown",
   "metadata": {},
   "source": [
    "Once you have an initial design of your robot, see how you can control it, and see if you can set actions for the robot to get it to run forward."
   ]
  },
  {
   "cell_type": "code",
   "execution_count": null,
   "metadata": {
    "collapsed": true
   },
   "outputs": [],
   "source": [
    "## Get a video of the robot with a single fixed action applied. Again, you will need to figure out how many joints \n",
    "## you can control, which dimension corresponds to which joint, and then try to set actions to each joint to try to \n",
    "## get it to run forward.\n",
    "action = # YOUR CODE HERE\n",
    "robot_video = # YOUR CODE HERE"
   ]
  },
  {
   "cell_type": "code",
   "execution_count": null,
   "metadata": {
    "collapsed": true
   },
   "outputs": [],
   "source": [
    "robot_video.ipython_display(width=280)"
   ]
  },
  {
   "cell_type": "code",
   "execution_count": null,
   "metadata": {
    "collapsed": true
   },
   "outputs": [],
   "source": [
    "## Try to set multiple actions periodically.\n",
    "actions = # YOUR CODE HERE\n",
    "action_durations = # YOUR CODE HERE\n",
    "robot_video = # YOUR CODE HERE"
   ]
  },
  {
   "cell_type": "code",
   "execution_count": null,
   "metadata": {
    "collapsed": true
   },
   "outputs": [],
   "source": [
    "robot_video.ipython_display(width=280)"
   ]
  },
  {
   "cell_type": "markdown",
   "metadata": {},
   "source": [
    "Is this robot harder to control than the cheetah? How far can you get the robot to run?\n",
    "\n",
    "Go through the same design and control process for at least *two* of the three more complex robots. Then specify your designs below. On Thursday, you will use machine learninig to have these two robots _learn_ to run forward."
   ]
  },
  {
   "cell_type": "code",
   "execution_count": null,
   "metadata": {
    "collapsed": true
   },
   "outputs": [],
   "source": []
  },
  {
   "cell_type": "markdown",
   "metadata": {},
   "source": [
    "### Deliverables\n",
    "In addition to taking notes on what you learned in this notebook, for your presentation on Friday. Specify the parameters of your robot below, running both of the two code blocks to print out the robots base name (e.g. 'hopper', 'walker', or 'ant') and the parameters of that robot. Then, make sure to save your notebook."
   ]
  },
  {
   "cell_type": "code",
   "execution_count": null,
   "metadata": {
    "collapsed": true
   },
   "outputs": [],
   "source": [
    "## Robot 1 base name\n",
    "robot1_base_name = # YOUR CODE HERE (e.g. 'hopper', 'walker', or 'ant')\n",
    "## Robot 1 parameters, pass in the dictionary.\n",
    "robot1_params = # YOUR PARAMS HERE\n",
    "\n",
    "## Robot 2 base name\n",
    "robot2_base_name = # YOUR CODE HERE (e.g. 'hopper', 'walker', or 'ant')\n",
    "## Robot 2 parameters, pass in the dictionary.\n",
    "robot2_params = # YOUR PARAMS HERE"
   ]
  },
  {
   "cell_type": "code",
   "execution_count": null,
   "metadata": {
    "collapsed": true
   },
   "outputs": [],
   "source": [
    "print robot1_base_name\n",
    "print robot1_params\n",
    "print robot2_base_name\n",
    "print robot2_params"
   ]
  }
 ],
 "metadata": {
  "kernelspec": {
   "display_name": "Python 2",
   "language": "python",
   "name": "python2"
  },
  "language_info": {
   "codemirror_mode": {
    "name": "ipython",
    "version": 2
   },
   "file_extension": ".py",
   "mimetype": "text/x-python",
   "name": "python",
   "nbconvert_exporter": "python",
   "pygments_lexer": "ipython2",
   "version": "2.7.12"
  }
 },
 "nbformat": 4,
 "nbformat_minor": 2
}

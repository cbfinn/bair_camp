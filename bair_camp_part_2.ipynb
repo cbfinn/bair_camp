{
 "cells": [
  {
   "cell_type": "markdown",
   "metadata": {},
   "source": [
    "# BAIR Camp Project Part 2: Learning to Imitate\n",
    "\n",
    "In this project, you will make a robot and a car learn to imitate! \n",
    "\n",
    "Before starting, first take a look at the code in project_part2.py. In particular, see what objects and functions are available for you to call, and read about what they do. As you start below, keep project_part2.py open as a reference."
   ]
  },
  {
   "cell_type": "code",
   "execution_count": null,
   "metadata": {
    "collapsed": true
   },
   "outputs": [],
   "source": [
    "from project_part2 import ImitationRobot, ImitationCar\n",
    "import tensorflow as tf\n",
    "square = tf.square\n",
    "mean = tf.reduce_mean"
   ]
  },
  {
   "cell_type": "markdown",
   "metadata": {},
   "source": [
    "### Part 2A: Robot locomotion\n",
    "The goal of this part of the project is to teach a simulated robot to run, so that it can complete a search & rescue mission.\n",
    "<img src=\"drchubo.jpg\" width=\"250\">\n",
    "\n",
    "First, make your robot. Choose between a hopper, walker, cheetah, or ant robot."
   ]
  },
  {
   "cell_type": "code",
   "execution_count": null,
   "metadata": {
    "collapsed": true
   },
   "outputs": [],
   "source": [
    "my_robot = ## your code here."
   ]
  },
  {
   "cell_type": "markdown",
   "metadata": {},
   "source": [
    "Your robot initially will take random actions. See what your robot does by running it."
   ]
  },
  {
   "cell_type": "code",
   "execution_count": null,
   "metadata": {
    "collapsed": true
   },
   "outputs": [],
   "source": [
    "video = ## your code here.\n",
    "# Be patient with this command. The video will take time to appear\n",
    "video.ipython_display(width=280)"
   ]
  },
  {
   "cell_type": "markdown",
   "metadata": {},
   "source": [
    "Ok, we need to define the loss function for imitation. The rest of the learning has been implemented in project_part2.py. To compute the square of a variable, use the function square() and to compute the absolute value, use the function abs()."
   ]
  },
  {
   "cell_type": "code",
   "execution_count": null,
   "metadata": {
    "collapsed": true
   },
   "outputs": [],
   "source": [
    "def loss_function(robot_action, expert_action):\n",
    "    \"\"\"\n",
    "    Args:\n",
    "        robot_action: numpy array containing robot's action.\n",
    "        expert_action: numpy array containing expert's action.\n",
    "    \"\"\"\n",
    "    loss = ## your code here.\n",
    "    return loss\n",
    "\n",
    "my_robot.set_loss(loss_function)"
   ]
  },
  {
   "cell_type": "markdown",
   "metadata": {},
   "source": [
    "Now, it is time to train the robot. First, we need data collected from an expert. Next, load demonstrations and visualize what the demonstrations look like."
   ]
  },
  {
   "cell_type": "code",
   "execution_count": null,
   "metadata": {
    "collapsed": true
   },
   "outputs": [],
   "source": [
    "## your code for loading demonstrations here.\n",
    "\n",
    "demo_video = ## your code for getting video of demonstrations here."
   ]
  },
  {
   "cell_type": "code",
   "execution_count": null,
   "metadata": {
    "collapsed": true
   },
   "outputs": [],
   "source": [
    "# Be patient with this command. The video will take time to appear\n",
    "demo_video.ipython_display(width=280)"
   ]
  },
  {
   "cell_type": "markdown",
   "metadata": {},
   "source": [
    "Now, decide how many iterations you want to train your robot for. Once you are done training, run the robot to see what the robot has learned!\n",
    "\n",
    "How many iterations does the robot need to learn how to run?\n",
    "\n",
    "*Hint*: Monitor the value of the error during training. You might need more training iterations than you think. Learning to walk takes time!"
   ]
  },
  {
   "cell_type": "code",
   "execution_count": null,
   "metadata": {
    "collapsed": true
   },
   "outputs": [],
   "source": [
    "## your code here."
   ]
  },
  {
   "cell_type": "code",
   "execution_count": null,
   "metadata": {
    "collapsed": true
   },
   "outputs": [],
   "source": [
    "video_learned = ## your code here.\n",
    "video_learned.ipython_display(width=280)"
   ]
  },
  {
   "cell_type": "markdown",
   "metadata": {},
   "source": [
    "Now, try experimenting with different experts and different numbers of demonstrations, by inputting different arguments to the collect_demonstrations function.\n",
    "\n",
    "How does the robot's behavior change as it imitates varying numbers of demonstrations?"
   ]
  },
  {
   "cell_type": "markdown",
   "metadata": {},
   "source": [
    "### Part 2B: Driving\n",
    "Now it is time to teach simulated car to drive! About one-hundred people in the US die every day due to a car accident. Cars that can drive themselves could dramatically decrease such deaths.\n",
    "\n",
    "<img src=\"googlecar.jpg\" width=\"250\">\n",
    "\n",
    "In this part of the project, we will use the same technique to teach a car to drive around a track.\n",
    "\n",
    "First, make a car object. Everyone needs to use a different port number. Be sure to ask your group leader for what port number to use."
   ]
  },
  {
   "cell_type": "code",
   "execution_count": null,
   "metadata": {
    "collapsed": true
   },
   "outputs": [],
   "source": [
    "my_car = ## your code here"
   ]
  },
  {
   "cell_type": "markdown",
   "metadata": {},
   "source": [
    "Your car initially will randomly steer the wheel. See how far the car travels without crashing."
   ]
  },
  {
   "cell_type": "code",
   "execution_count": null,
   "metadata": {
    "collapsed": true
   },
   "outputs": [],
   "source": [
    "## your code here"
   ]
  },
  {
   "cell_type": "markdown",
   "metadata": {},
   "source": [
    "Next, we will set the loss function, using the loss function that you defined in part a."
   ]
  },
  {
   "cell_type": "code",
   "execution_count": null,
   "metadata": {
    "collapsed": true
   },
   "outputs": [],
   "source": [
    "my_car.set_loss(loss_function)"
   ]
  },
  {
   "cell_type": "markdown",
   "metadata": {},
   "source": [
    "Before staring learning, we need data collected from an expert driver. Load the demonstrations and visualize what the demonstrations look like."
   ]
  },
  {
   "cell_type": "code",
   "execution_count": null,
   "metadata": {
    "collapsed": true
   },
   "outputs": [],
   "source": [
    "## your code for loading demonstrations here\n",
    "\n",
    "video_clip = ## your code for getting the video"
   ]
  },
  {
   "cell_type": "markdown",
   "metadata": {},
   "source": [
    "Now, decide how many iterations you want to train your car for. Once you are done training, run the car to see how far it can drive without crashing!\n",
    "\n",
    "How many iterations does the car need to learn how to drive?"
   ]
  },
  {
   "cell_type": "code",
   "execution_count": null,
   "metadata": {
    "collapsed": true
   },
   "outputs": [],
   "source": [
    "## your code for training here"
   ]
  }
 ],
 "metadata": {
  "kernelspec": {
   "display_name": "Python 2",
   "language": "python",
   "name": "python2"
  },
  "language_info": {
   "codemirror_mode": {
    "name": "ipython",
    "version": 2
   },
   "file_extension": ".py",
   "mimetype": "text/x-python",
   "name": "python",
   "nbconvert_exporter": "python",
   "pygments_lexer": "ipython2",
   "version": "2.7.6"
  }
 },
 "nbformat": 4,
 "nbformat_minor": 1
}

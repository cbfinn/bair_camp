{
 "cells": [
  {
   "cell_type": "markdown",
   "metadata": {},
   "source": [
    "# BAIR Camp Project Part 2: Learning to Imitate\n",
    "\n",
    "In this project, you will make the two robots learn to run by imitating an expert! You will start by using a linear function to represent the mapping from states to actions. Then, you will try a neural network.\n",
    "\n",
    "### Before starting\n",
    "Before starting, first take a look at the code in project_part2.py. In particular, see what objects and functions are available for you to call, and read about what they do. As you start below, keep project_part2.py open as a reference.\n",
    "\n",
    "### Deliverables\n",
    "You should write down what you found and learned, and download videos of your agent, so that you can include both in your presentation on Friday."
   ]
  },
  {
   "cell_type": "code",
   "execution_count": 1,
   "metadata": {},
   "outputs": [],
   "source": [
    "from project_part2 import ImitationRobot\n",
    "import tensorflow as tf\n",
    "square = tf.square  # function that squares the input\n",
    "mean = tf.reduce_mean # function that takes the average of a list of numbers"
   ]
  },
  {
   "cell_type": "markdown",
   "metadata": {},
   "source": [
    "### Part 2A: Linear functions\n",
    "The goal of this part of the project is to teach your simulated robot to run.\n",
    "\n",
    "First, make one of your two robots, passing in the parameters of the robot that you designed on Tuesday."
   ]
  },
  {
   "cell_type": "code",
   "execution_count": null,
   "metadata": {
    "collapsed": true
   },
   "outputs": [],
   "source": [
    "my_robot = ## your code here."
   ]
  },
  {
   "cell_type": "markdown",
   "metadata": {},
   "source": [
    "Your robot initially will take random actions. See what your robot does by running it."
   ]
  },
  {
   "cell_type": "code",
   "execution_count": null,
   "metadata": {
    "collapsed": true
   },
   "outputs": [],
   "source": [
    "video = ## your code here.\n",
    "# Be patient with this command. The video will take time to appear\n",
    "video.ipython_display(width=280)"
   ]
  },
  {
   "cell_type": "markdown",
   "metadata": {},
   "source": [
    "Ok, we need to define the loss function for imitation. The rest of the learning has been implemented in project_part2.py. To compute the square of a variable, use the function square() and to compute the absolute value, use the function abs().\n",
    "\n",
    "_Hint_: Make sure that your loss is a single scalar value and not a list."
   ]
  },
  {
   "cell_type": "code",
   "execution_count": null,
   "metadata": {
    "collapsed": true
   },
   "outputs": [],
   "source": [
    "def loss_function(robot_action, expert_action):\n",
    "    \"\"\"\n",
    "    Args:\n",
    "        robot_action: list (numpy array) containing robot's action.\n",
    "        expert_action: list (numpy array) containing expert's action.\n",
    "    \"\"\"\n",
    "    loss = ## your code here.\n",
    "    return loss\n",
    "\n",
    "my_robot.set_loss(loss_function)"
   ]
  },
  {
   "cell_type": "markdown",
   "metadata": {},
   "source": [
    "Now, it is time to train the robot. First, we need data collected from an expert. Next, load demonstrations and visualize what the demonstrations look like."
   ]
  },
  {
   "cell_type": "code",
   "execution_count": null,
   "metadata": {
    "collapsed": true
   },
   "outputs": [],
   "source": [
    "## your code for loading and getting video of demonstrations here.\n",
    "\n",
    "# Be patient with this command. The video will take time to appear\n",
    "demo_video.ipython_display(width=280)"
   ]
  },
  {
   "cell_type": "markdown",
   "metadata": {},
   "source": [
    "Now, decide how many iterations you want to train your robot for, and iteratively apply the update rule to train the robot. Once you are done training, run the robot to see what the robot has learned!\n",
    "\n",
    "Can the robot learn to run using a linear function? How many iterations does it take?\n",
    "\n",
    "*Hint*: Monitor the value of the error during training. You might need more training iterations than you think. Learning to run takes time!"
   ]
  },
  {
   "cell_type": "code",
   "execution_count": null,
   "metadata": {
    "collapsed": true
   },
   "outputs": [],
   "source": [
    "## your code here."
   ]
  },
  {
   "cell_type": "code",
   "execution_count": null,
   "metadata": {
    "collapsed": true
   },
   "outputs": [],
   "source": [
    "video_learned = ## your code here.\n",
    "video_learned.ipython_display(width=280)"
   ]
  },
  {
   "cell_type": "markdown",
   "metadata": {},
   "source": [
    "Try running the robot multiple times. Does the robot always run the same distance?\n",
    "\n",
    "Also, try experimenting with different numbers of demonstrations, by inputting different arguments to the collect_demonstrations function. How does the robot's behavior change as it imitates varying numbers of demonstrations? \n",
    "\n",
    "Experiment with both of your robots. Does one robot learn faster or more efficiently than the other?"
   ]
  },
  {
   "cell_type": "markdown",
   "metadata": {},
   "source": [
    "### Part 2B: Neural networks\n",
    "Now it is time to teach your robots to run by training a neural network! Follow the above code to create your robot, except with a neural network instead of a linear function. We will use the same loss function that you designed earlier."
   ]
  },
  {
   "cell_type": "code",
   "execution_count": null,
   "metadata": {
    "collapsed": true
   },
   "outputs": [],
   "source": [
    "my_robot = ## your code here.\n",
    "my_robot.set_loss(loss_function)"
   ]
  },
  {
   "cell_type": "markdown",
   "metadata": {},
   "source": [
    "First, load the demonstrations as before."
   ]
  },
  {
   "cell_type": "code",
   "execution_count": null,
   "metadata": {
    "collapsed": true
   },
   "outputs": [],
   "source": [
    "## your code for loading demonstrations here."
   ]
  },
  {
   "cell_type": "markdown",
   "metadata": {},
   "source": [
    "Now, decide how many iterations you want to train your robot for, and iteratively apply the update rule to train the robot. Once you are done training, run the robot to see what the robot has learned!\n",
    "\n",
    "How many iterations does it take for the robot to learn using a neural network?\n",
    "\n",
    "*Hint*: Monitor the value of the error during training. You might need more training iterations than you think. Learning to run takes time!"
   ]
  },
  {
   "cell_type": "code",
   "execution_count": null,
   "metadata": {
    "collapsed": true
   },
   "outputs": [],
   "source": [
    "## your code for training here."
   ]
  },
  {
   "cell_type": "code",
   "execution_count": null,
   "metadata": {
    "collapsed": true
   },
   "outputs": [],
   "source": [
    "video_learned = ## your code here.\n",
    "video_learned.ipython_display(width=280)"
   ]
  },
  {
   "cell_type": "markdown",
   "metadata": {},
   "source": [
    "Now, try experimenting with different numbers of demonstrations, by inputting different arguments to the collect_demonstrations function.\n",
    "\n",
    "How does the robot's behavior change as it imitates varying numbers of demonstrations?\n",
    "\n",
    "How does the neural network compare to the linear function? Does one get to a better error?\n",
    "\n",
    "Experiment with both of your robots. Does one robot learn faster or more efficiently than the other?"
   ]
  },
  {
   "cell_type": "code",
   "execution_count": null,
   "metadata": {},
   "outputs": [],
   "source": []
  }
 ],
 "metadata": {
  "kernelspec": {
   "display_name": "Python 2",
   "language": "python",
   "name": "python2"
  },
  "language_info": {
   "codemirror_mode": {
    "name": "ipython",
    "version": 2
   },
   "file_extension": ".py",
   "mimetype": "text/x-python",
   "name": "python",
   "nbconvert_exporter": "python",
   "pygments_lexer": "ipython2",
   "version": "2.7.12"
  }
 },
 "nbformat": 4,
 "nbformat_minor": 1
}

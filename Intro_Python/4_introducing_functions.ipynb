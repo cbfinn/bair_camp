{
 "cells": [
  {
   "cell_type": "markdown",
   "metadata": {
    "collapsed": true
   },
   "source": [
    "Introducing Functions\n",
    "===\n",
    "One of the core principles of any programming language is, \"Don't Repeat Yourself\". If you have an action that should occur many times, you can define that action once and then call that code whenever you need to carry out that action.\n",
    "\n",
    "We are already repeating ourselves in our code, so this is a good time to introduce simple functions. Functions mean less work for us as programmers, and effective use of functions results in code that is less error-prone."
   ]
  },
  {
   "cell_type": "markdown",
   "metadata": {},
   "source": [
    "What are functions?\n",
    "===\n",
    "Functions are a set of actions that we group together, and give a name to. You have already used a number of functions from the core Python language, such as *string.title()* and *list.sort()*. We can define our own functions, which allows us to \"teach\" Python new behavior."
   ]
  },
  {
   "cell_type": "markdown",
   "metadata": {},
   "source": [
    "General Syntax\n",
    "---\n",
    "A general function looks something like this:"
   ]
  },
  {
   "cell_type": "code",
   "execution_count": null,
   "metadata": {
    "collapsed": true
   },
   "outputs": [],
   "source": [
    "# Let's define a function.\n",
    "def function_name(argument_1, argument_2):\n",
    "\t# Do whatever we want this function to do,\n",
    "\t#  using argument_1 and argument_2\n",
    "\n",
    "# Use function_name to call the function.\n",
    "function_name(value_1, value_2)"
   ]
  },
  {
   "cell_type": "markdown",
   "metadata": {},
   "source": [
    "This code will not run, but it shows how functions are used in general.\n",
    "\n",
    "- **Defining a function**\n",
    "    - Give the keyword `def`, which tells Python that you are about to *define* a function.\n",
    "    - Give your function a name. A variable name tells you what kind of value the variable contains; a function name should tell you what the function does.\n",
    "    - Give names for each value the function needs in order to do its work.\n",
    "        - These are basically variable names, but they are only used in the function.\n",
    "        - They can be different names than what you use in the rest of your program.\n",
    "        - These are called the function's *arguments*.\n",
    "    - Make sure the function definition line ends with a colon.\n",
    "    - Inside the function, write whatever code you need to make the function do its work.\n",
    "- **Using your function**\n",
    "    - To *call* your function, write its name followed by parentheses.\n",
    "    - Inside the parentheses, give the values you want the function to work with.\n",
    "        - These can be variables such as `current_name` and `current_age`, or they can be actual values such as 'eric' and 5."
   ]
  },
  {
   "cell_type": "markdown",
   "metadata": {},
   "source": [
    "[top](#)"
   ]
  },
  {
   "cell_type": "markdown",
   "metadata": {},
   "source": [
    "Basic Examples\n",
    "===\n",
    "For a simple first example, we will look at a program that compliments people. Let's look at the example, and then try to understand the code. First we will look at a version of this program as we would have written it earlier, with no functions."
   ]
  },
  {
   "cell_type": "code",
   "execution_count": 2,
   "metadata": {},
   "outputs": [
    {
     "name": "stdout",
     "output_type": "stream",
     "text": [
      "You are doing good work, Adriana!\n",
      "Thank you very much for your efforts on this project.\n",
      "\n",
      "You are doing good work, Billy!\n",
      "Thank you very much for your efforts on this project.\n",
      "\n",
      "You are doing good work, Caroline!\n",
      "Thank you very much for your efforts on this project.\n"
     ]
    }
   ],
   "source": [
    "print(\"You are doing good work, Adriana!\")\n",
    "print(\"Thank you very much for your efforts on this project.\")\n",
    "\n",
    "print(\"\\nYou are doing good work, Billy!\")\n",
    "print(\"Thank you very much for your efforts on this project.\")\n",
    "\n",
    "print(\"\\nYou are doing good work, Caroline!\")\n",
    "print(\"Thank you very much for your efforts on this project.\")"
   ]
  },
  {
   "cell_type": "markdown",
   "metadata": {},
   "source": [
    "Functions take repeated code, put it in one place, and then you call that code when you want to use it. Here's what the same program looks like with a function."
   ]
  },
  {
   "cell_type": "code",
   "execution_count": 4,
   "metadata": {},
   "outputs": [
    {
     "name": "stdout",
     "output_type": "stream",
     "text": [
      "\n",
      "You are doing good work, Adriana!\n",
      "Thank you very much for your efforts on this project.\n",
      "\n",
      "You are doing good work, Billy!\n",
      "Thank you very much for your efforts on this project.\n",
      "\n",
      "You are doing good work, Caroline!\n",
      "Thank you very much for your efforts on this project.\n"
     ]
    }
   ],
   "source": [
    "def thank_you(name):\n",
    "    # This function prints a two-line personalized thank you message.\n",
    "    print(\"\\nYou are doing good work, %s!\" % name)\n",
    "    print(\"Thank you very much for your efforts on this project.\")\n",
    "    \n",
    "thank_you('Adriana')\n",
    "thank_you('Billy')\n",
    "thank_you('Caroline')"
   ]
  },
  {
   "cell_type": "markdown",
   "metadata": {},
   "source": [
    "In our original code, each pair of print statements was run three times, and the only difference was the name of the person being thanked. When you see repetition like this, you can usually make your program more efficient by defining a function.\n",
    "\n",
    "The keyword *def* tells Python that we are about to define a function. We give our function a name, *thank\\_you()* in this case. A variable's name should tell us what kind of information it holds; a function's name should tell us what the variable does.  We then put parentheses. Inside these parenthese we create variable names for any variable the function will need to be given in order to do its job. In this case the function will need a name to include in the thank you message. The variable `name` will hold the value that is passed into the function *thank\\_you()*.\n",
    "\n",
    "To use a function we give the function's name, and then put any values the function needs in order to do its work. In this case we call the function three times, each time passing it a different name."
   ]
  },
  {
   "cell_type": "markdown",
   "metadata": {},
   "source": [
    "#### Exercise:\n",
    "- Write a function greet(name). The function greets the person whose name you enter with your favorite greeting.\n",
    "- greet('Deirdre') outputs:\n",
    "- Bonjour Deirdre! \n",
    "- greet('Bob') outputs:\n",
    "- Bonjour Bob!\n",
    "\n",
    "#### Exercise 2\n",
    "- Write a function greet(name, greeting). The function greets the person whose name you enter with a given greeting.\n",
    "- Example:\n",
    "- greet('Jamal', 'Yo') outputs:\n",
    "- 'Yo Jamal!'\n"
   ]
  },
  {
   "cell_type": "code",
   "execution_count": null,
   "metadata": {
    "collapsed": true
   },
   "outputs": [],
   "source": [
    "## Your solution here!"
   ]
  },
  {
   "cell_type": "markdown",
   "metadata": {},
   "source": [
    "Returning a Value\n",
    "---\n",
    "Each function you create can return a value. This can be in addition to the primary work the function does, or it can be the function's main job. The following function takes in a number, and returns the corresponding word for that number:"
   ]
  },
  {
   "cell_type": "code",
   "execution_count": 6,
   "metadata": {},
   "outputs": [
    {
     "name": "stdout",
     "output_type": "stream",
     "text": [
      "(0, None)\n",
      "(1, 'one')\n",
      "(2, 'two')\n"
     ]
    }
   ],
   "source": [
    "def get_number_word(number):\n",
    "    # Takes in a numerical value, and returns\n",
    "    #  the word corresponding to that number.\n",
    "    if number == 1:\n",
    "        return 'one'\n",
    "    elif number == 2:\n",
    "        return 'two'\n",
    "    elif number == 3:\n",
    "        return 'three'\n",
    "    # ...\n",
    "    \n",
    "# Let's try out our function.\n",
    "number_word = get_number_word(0)\n",
    "print(0, number_word)\n",
    "number_word = get_number_word(1)\n",
    "print(1, number_word)\n",
    "number_word = get_number_word(2)\n",
    "print(2, number_word)"
   ]
  },
  {
   "cell_type": "markdown",
   "metadata": {},
   "source": [
    "#### Exercise:\n",
    "- Change the function above to print 'Zero' when given input 0.\n",
    "- Change the function above to print 'I don't know how to spell that number' if you give it another number."
   ]
  },
  {
   "cell_type": "code",
   "execution_count": null,
   "metadata": {
    "collapsed": true
   },
   "outputs": [],
   "source": [
    "## Your solution here!"
   ]
  },
  {
   "cell_type": "markdown",
   "metadata": {},
   "source": [
    "More Later\n",
    "---\n",
    "There is much more to learn about functions, but we will get to those details later. For now, feel free to use functions whenever you find yourself writing the same code several times in a program. Some of the things you will learn when we focus on functions:\n",
    "\n",
    "- How to give the arguments in your function default values.\n",
    "- How to let your functions accept different numbers of arguments."
   ]
  },
  {
   "cell_type": "markdown",
   "metadata": {},
   "source": [
    "[top](#)"
   ]
  },
  {
   "cell_type": "markdown",
   "metadata": {},
   "source": [
    "#### Exercise: Addition Calculator\n",
    "- Write a function that takes in two numbers, and adds them together. Make your function print out a sentence showing the two numbers, and the result.\n",
    "- Call your function with three different sets of numbers."
   ]
  },
  {
   "cell_type": "code",
   "execution_count": null,
   "metadata": {
    "collapsed": true
   },
   "outputs": [],
   "source": [
    "# Your solution here!"
   ]
  },
  {
   "cell_type": "markdown",
   "metadata": {},
   "source": [
    "[top](#)"
   ]
  }
 ],
 "metadata": {
  "kernelspec": {
   "display_name": "Python 2",
   "language": "python",
   "name": "python2"
  },
  "language_info": {
   "codemirror_mode": {
    "name": "ipython",
    "version": 2
   },
   "file_extension": ".py",
   "mimetype": "text/x-python",
   "name": "python",
   "nbconvert_exporter": "python",
   "pygments_lexer": "ipython2",
   "version": "2.7.13"
  }
 },
 "nbformat": 4,
 "nbformat_minor": 1
}
